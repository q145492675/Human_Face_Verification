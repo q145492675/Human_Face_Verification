{
 "cells": [
  {
   "cell_type": "code",
   "execution_count": 55,
   "metadata": {},
   "outputs": [],
   "source": [
    "import cv2\n",
    "import os\n",
    "import numpy as np\n",
    "import tensorflow as tf"
   ]
  },
  {
   "cell_type": "code",
   "execution_count": 93,
   "metadata": {},
   "outputs": [
    {
     "name": "stdout",
     "output_type": "stream",
     "text": [
      "INFO:tensorflow:Restoring parameters from 20180402-114759/model-20180402-114759.ckpt-275.data-00000-of-00001\n"
     ]
    }
   ],
   "source": [
    "sess = tf.Session()\n",
    "saver = tf.train.import_meta_graph('20180402-114759/model-20180402-114759.meta')\n",
    "saver.restore(sess, '20180402-114759/model-20180402-114759.ckpt-275.data-00000-of-00001')"
   ]
  },
  {
   "cell_type": "code",
   "execution_count": 94,
   "metadata": {},
   "outputs": [
    {
     "ename": "FailedPreconditionError",
     "evalue": "Attempting to use uninitialized value InceptionResnetV1/Conv2d_1a_3x3/weights\n\t [[Node: InceptionResnetV1/Conv2d_1a_3x3/weights/read = Identity[T=DT_FLOAT, _class=[\"loc:@InceptionResnetV1/Conv2d_1a_3x3/weights\"], _device=\"/job:localhost/replica:0/task:0/device:CPU:0\"](InceptionResnetV1/Conv2d_1a_3x3/weights)]]\n\nCaused by op 'InceptionResnetV1/Conv2d_1a_3x3/weights/read', defined at:\n  File \"/Users/apple/anaconda3/lib/python3.6/runpy.py\", line 193, in _run_module_as_main\n    \"__main__\", mod_spec)\n  File \"/Users/apple/anaconda3/lib/python3.6/runpy.py\", line 85, in _run_code\n    exec(code, run_globals)\n  File \"/Users/apple/anaconda3/lib/python3.6/site-packages/ipykernel_launcher.py\", line 16, in <module>\n    app.launch_new_instance()\n  File \"/Users/apple/anaconda3/lib/python3.6/site-packages/traitlets/config/application.py\", line 658, in launch_instance\n    app.start()\n  File \"/Users/apple/anaconda3/lib/python3.6/site-packages/ipykernel/kernelapp.py\", line 478, in start\n    self.io_loop.start()\n  File \"/Users/apple/anaconda3/lib/python3.6/site-packages/zmq/eventloop/ioloop.py\", line 177, in start\n    super(ZMQIOLoop, self).start()\n  File \"/Users/apple/anaconda3/lib/python3.6/site-packages/tornado/ioloop.py\", line 888, in start\n    handler_func(fd_obj, events)\n  File \"/Users/apple/anaconda3/lib/python3.6/site-packages/tornado/stack_context.py\", line 277, in null_wrapper\n    return fn(*args, **kwargs)\n  File \"/Users/apple/anaconda3/lib/python3.6/site-packages/zmq/eventloop/zmqstream.py\", line 440, in _handle_events\n    self._handle_recv()\n  File \"/Users/apple/anaconda3/lib/python3.6/site-packages/zmq/eventloop/zmqstream.py\", line 472, in _handle_recv\n    self._run_callback(callback, msg)\n  File \"/Users/apple/anaconda3/lib/python3.6/site-packages/zmq/eventloop/zmqstream.py\", line 414, in _run_callback\n    callback(*args, **kwargs)\n  File \"/Users/apple/anaconda3/lib/python3.6/site-packages/tornado/stack_context.py\", line 277, in null_wrapper\n    return fn(*args, **kwargs)\n  File \"/Users/apple/anaconda3/lib/python3.6/site-packages/ipykernel/kernelbase.py\", line 283, in dispatcher\n    return self.dispatch_shell(stream, msg)\n  File \"/Users/apple/anaconda3/lib/python3.6/site-packages/ipykernel/kernelbase.py\", line 233, in dispatch_shell\n    handler(stream, idents, msg)\n  File \"/Users/apple/anaconda3/lib/python3.6/site-packages/ipykernel/kernelbase.py\", line 399, in execute_request\n    user_expressions, allow_stdin)\n  File \"/Users/apple/anaconda3/lib/python3.6/site-packages/ipykernel/ipkernel.py\", line 208, in do_execute\n    res = shell.run_cell(code, store_history=store_history, silent=silent)\n  File \"/Users/apple/anaconda3/lib/python3.6/site-packages/ipykernel/zmqshell.py\", line 537, in run_cell\n    return super(ZMQInteractiveShell, self).run_cell(*args, **kwargs)\n  File \"/Users/apple/anaconda3/lib/python3.6/site-packages/IPython/core/interactiveshell.py\", line 2728, in run_cell\n    interactivity=interactivity, compiler=compiler, result=result)\n  File \"/Users/apple/anaconda3/lib/python3.6/site-packages/IPython/core/interactiveshell.py\", line 2850, in run_ast_nodes\n    if self.run_code(code, result):\n  File \"/Users/apple/anaconda3/lib/python3.6/site-packages/IPython/core/interactiveshell.py\", line 2910, in run_code\n    exec(code_obj, self.user_global_ns, self.user_ns)\n  File \"<ipython-input-75-b6c39c16c386>\", line 1, in <module>\n    netword_structure = tf.train.import_meta_graph('20180402-114759/model-20180402-114759.meta')\n  File \"/Users/apple/anaconda3/lib/python3.6/site-packages/tensorflow/python/training/saver.py\", line 1927, in import_meta_graph\n    **kwargs)\n  File \"/Users/apple/anaconda3/lib/python3.6/site-packages/tensorflow/python/framework/meta_graph.py\", line 741, in import_scoped_meta_graph\n    producer_op_list=producer_op_list)\n  File \"/Users/apple/anaconda3/lib/python3.6/site-packages/tensorflow/python/util/deprecation.py\", line 432, in new_func\n    return func(*args, **kwargs)\n  File \"/Users/apple/anaconda3/lib/python3.6/site-packages/tensorflow/python/framework/importer.py\", line 577, in import_graph_def\n    op_def=op_def)\n  File \"/Users/apple/anaconda3/lib/python3.6/site-packages/tensorflow/python/framework/ops.py\", line 3290, in create_op\n    op_def=op_def)\n  File \"/Users/apple/anaconda3/lib/python3.6/site-packages/tensorflow/python/framework/ops.py\", line 1654, in __init__\n    self._traceback = self._graph._extract_stack()  # pylint: disable=protected-access\n\nFailedPreconditionError (see above for traceback): Attempting to use uninitialized value InceptionResnetV1/Conv2d_1a_3x3/weights\n\t [[Node: InceptionResnetV1/Conv2d_1a_3x3/weights/read = Identity[T=DT_FLOAT, _class=[\"loc:@InceptionResnetV1/Conv2d_1a_3x3/weights\"], _device=\"/job:localhost/replica:0/task:0/device:CPU:0\"](InceptionResnetV1/Conv2d_1a_3x3/weights)]]\n",
     "output_type": "error",
     "traceback": [
      "\u001b[0;31m---------------------------------------------------------------------------\u001b[0m",
      "\u001b[0;31mFailedPreconditionError\u001b[0m                   Traceback (most recent call last)",
      "\u001b[0;32m~/anaconda3/lib/python3.6/site-packages/tensorflow/python/client/session.py\u001b[0m in \u001b[0;36m_do_call\u001b[0;34m(self, fn, *args)\u001b[0m\n\u001b[1;32m   1326\u001b[0m     \u001b[0;32mtry\u001b[0m\u001b[0;34m:\u001b[0m\u001b[0;34m\u001b[0m\u001b[0m\n\u001b[0;32m-> 1327\u001b[0;31m       \u001b[0;32mreturn\u001b[0m \u001b[0mfn\u001b[0m\u001b[0;34m(\u001b[0m\u001b[0;34m*\u001b[0m\u001b[0margs\u001b[0m\u001b[0;34m)\u001b[0m\u001b[0;34m\u001b[0m\u001b[0m\n\u001b[0m\u001b[1;32m   1328\u001b[0m     \u001b[0;32mexcept\u001b[0m \u001b[0merrors\u001b[0m\u001b[0;34m.\u001b[0m\u001b[0mOpError\u001b[0m \u001b[0;32mas\u001b[0m \u001b[0me\u001b[0m\u001b[0;34m:\u001b[0m\u001b[0;34m\u001b[0m\u001b[0m\n",
      "\u001b[0;32m~/anaconda3/lib/python3.6/site-packages/tensorflow/python/client/session.py\u001b[0m in \u001b[0;36m_run_fn\u001b[0;34m(feed_dict, fetch_list, target_list, options, run_metadata)\u001b[0m\n\u001b[1;32m   1311\u001b[0m       return self._call_tf_sessionrun(\n\u001b[0;32m-> 1312\u001b[0;31m           options, feed_dict, fetch_list, target_list, run_metadata)\n\u001b[0m\u001b[1;32m   1313\u001b[0m \u001b[0;34m\u001b[0m\u001b[0m\n",
      "\u001b[0;32m~/anaconda3/lib/python3.6/site-packages/tensorflow/python/client/session.py\u001b[0m in \u001b[0;36m_call_tf_sessionrun\u001b[0;34m(self, options, feed_dict, fetch_list, target_list, run_metadata)\u001b[0m\n\u001b[1;32m   1419\u001b[0m             \u001b[0mself\u001b[0m\u001b[0;34m.\u001b[0m\u001b[0m_session\u001b[0m\u001b[0;34m,\u001b[0m \u001b[0moptions\u001b[0m\u001b[0;34m,\u001b[0m \u001b[0mfeed_dict\u001b[0m\u001b[0;34m,\u001b[0m \u001b[0mfetch_list\u001b[0m\u001b[0;34m,\u001b[0m \u001b[0mtarget_list\u001b[0m\u001b[0;34m,\u001b[0m\u001b[0;34m\u001b[0m\u001b[0m\n\u001b[0;32m-> 1420\u001b[0;31m             status, run_metadata)\n\u001b[0m\u001b[1;32m   1421\u001b[0m \u001b[0;34m\u001b[0m\u001b[0m\n",
      "\u001b[0;32m~/anaconda3/lib/python3.6/site-packages/tensorflow/python/framework/errors_impl.py\u001b[0m in \u001b[0;36m__exit__\u001b[0;34m(self, type_arg, value_arg, traceback_arg)\u001b[0m\n\u001b[1;32m    515\u001b[0m             \u001b[0mcompat\u001b[0m\u001b[0;34m.\u001b[0m\u001b[0mas_text\u001b[0m\u001b[0;34m(\u001b[0m\u001b[0mc_api\u001b[0m\u001b[0;34m.\u001b[0m\u001b[0mTF_Message\u001b[0m\u001b[0;34m(\u001b[0m\u001b[0mself\u001b[0m\u001b[0;34m.\u001b[0m\u001b[0mstatus\u001b[0m\u001b[0;34m.\u001b[0m\u001b[0mstatus\u001b[0m\u001b[0;34m)\u001b[0m\u001b[0;34m)\u001b[0m\u001b[0;34m,\u001b[0m\u001b[0;34m\u001b[0m\u001b[0m\n\u001b[0;32m--> 516\u001b[0;31m             c_api.TF_GetCode(self.status.status))\n\u001b[0m\u001b[1;32m    517\u001b[0m     \u001b[0;31m# Delete the underlying status object from memory otherwise it stays alive\u001b[0m\u001b[0;34m\u001b[0m\u001b[0;34m\u001b[0m\u001b[0m\n",
      "\u001b[0;31mFailedPreconditionError\u001b[0m: Attempting to use uninitialized value InceptionResnetV1/Conv2d_1a_3x3/weights\n\t [[Node: InceptionResnetV1/Conv2d_1a_3x3/weights/read = Identity[T=DT_FLOAT, _class=[\"loc:@InceptionResnetV1/Conv2d_1a_3x3/weights\"], _device=\"/job:localhost/replica:0/task:0/device:CPU:0\"](InceptionResnetV1/Conv2d_1a_3x3/weights)]]",
      "\nDuring handling of the above exception, another exception occurred:\n",
      "\u001b[0;31mFailedPreconditionError\u001b[0m                   Traceback (most recent call last)",
      "\u001b[0;32m<ipython-input-94-5371352f1d9c>\u001b[0m in \u001b[0;36m<module>\u001b[0;34m()\u001b[0m\n\u001b[1;32m      6\u001b[0m \u001b[0moutputs\u001b[0m \u001b[0;34m=\u001b[0m \u001b[0msess\u001b[0m\u001b[0;34m.\u001b[0m\u001b[0mgraph\u001b[0m\u001b[0;34m.\u001b[0m\u001b[0mget_tensor_by_name\u001b[0m\u001b[0;34m(\u001b[0m\u001b[0;34m\"embeddings:0\"\u001b[0m\u001b[0;34m)\u001b[0m\u001b[0;34m\u001b[0m\u001b[0m\n\u001b[1;32m      7\u001b[0m \u001b[0mphase_train\u001b[0m \u001b[0;34m=\u001b[0m \u001b[0msess\u001b[0m\u001b[0;34m.\u001b[0m\u001b[0mgraph\u001b[0m\u001b[0;34m.\u001b[0m\u001b[0mget_tensor_by_name\u001b[0m\u001b[0;34m(\u001b[0m\u001b[0;34m\"phase_train:0\"\u001b[0m\u001b[0;34m)\u001b[0m\u001b[0;34m\u001b[0m\u001b[0m\n\u001b[0;32m----> 8\u001b[0;31m \u001b[0membedding\u001b[0m \u001b[0;34m=\u001b[0m \u001b[0msess\u001b[0m\u001b[0;34m.\u001b[0m\u001b[0mrun\u001b[0m\u001b[0;34m(\u001b[0m\u001b[0moutputs\u001b[0m\u001b[0;34m,\u001b[0m \u001b[0;34m{\u001b[0m\u001b[0minputs\u001b[0m\u001b[0;34m:\u001b[0m \u001b[0mtemp\u001b[0m\u001b[0;34m,\u001b[0m \u001b[0mphase_train\u001b[0m\u001b[0;34m:\u001b[0m \u001b[0;32mFalse\u001b[0m\u001b[0;34m}\u001b[0m\u001b[0;34m)\u001b[0m\u001b[0;34m\u001b[0m\u001b[0m\n\u001b[0m",
      "\u001b[0;32m~/anaconda3/lib/python3.6/site-packages/tensorflow/python/client/session.py\u001b[0m in \u001b[0;36mrun\u001b[0;34m(self, fetches, feed_dict, options, run_metadata)\u001b[0m\n\u001b[1;32m    903\u001b[0m     \u001b[0;32mtry\u001b[0m\u001b[0;34m:\u001b[0m\u001b[0;34m\u001b[0m\u001b[0m\n\u001b[1;32m    904\u001b[0m       result = self._run(None, fetches, feed_dict, options_ptr,\n\u001b[0;32m--> 905\u001b[0;31m                          run_metadata_ptr)\n\u001b[0m\u001b[1;32m    906\u001b[0m       \u001b[0;32mif\u001b[0m \u001b[0mrun_metadata\u001b[0m\u001b[0;34m:\u001b[0m\u001b[0;34m\u001b[0m\u001b[0m\n\u001b[1;32m    907\u001b[0m         \u001b[0mproto_data\u001b[0m \u001b[0;34m=\u001b[0m \u001b[0mtf_session\u001b[0m\u001b[0;34m.\u001b[0m\u001b[0mTF_GetBuffer\u001b[0m\u001b[0;34m(\u001b[0m\u001b[0mrun_metadata_ptr\u001b[0m\u001b[0;34m)\u001b[0m\u001b[0;34m\u001b[0m\u001b[0m\n",
      "\u001b[0;32m~/anaconda3/lib/python3.6/site-packages/tensorflow/python/client/session.py\u001b[0m in \u001b[0;36m_run\u001b[0;34m(self, handle, fetches, feed_dict, options, run_metadata)\u001b[0m\n\u001b[1;32m   1138\u001b[0m     \u001b[0;32mif\u001b[0m \u001b[0mfinal_fetches\u001b[0m \u001b[0;32mor\u001b[0m \u001b[0mfinal_targets\u001b[0m \u001b[0;32mor\u001b[0m \u001b[0;34m(\u001b[0m\u001b[0mhandle\u001b[0m \u001b[0;32mand\u001b[0m \u001b[0mfeed_dict_tensor\u001b[0m\u001b[0;34m)\u001b[0m\u001b[0;34m:\u001b[0m\u001b[0;34m\u001b[0m\u001b[0m\n\u001b[1;32m   1139\u001b[0m       results = self._do_run(handle, final_targets, final_fetches,\n\u001b[0;32m-> 1140\u001b[0;31m                              feed_dict_tensor, options, run_metadata)\n\u001b[0m\u001b[1;32m   1141\u001b[0m     \u001b[0;32melse\u001b[0m\u001b[0;34m:\u001b[0m\u001b[0;34m\u001b[0m\u001b[0m\n\u001b[1;32m   1142\u001b[0m       \u001b[0mresults\u001b[0m \u001b[0;34m=\u001b[0m \u001b[0;34m[\u001b[0m\u001b[0;34m]\u001b[0m\u001b[0;34m\u001b[0m\u001b[0m\n",
      "\u001b[0;32m~/anaconda3/lib/python3.6/site-packages/tensorflow/python/client/session.py\u001b[0m in \u001b[0;36m_do_run\u001b[0;34m(self, handle, target_list, fetch_list, feed_dict, options, run_metadata)\u001b[0m\n\u001b[1;32m   1319\u001b[0m     \u001b[0;32mif\u001b[0m \u001b[0mhandle\u001b[0m \u001b[0;32mis\u001b[0m \u001b[0;32mNone\u001b[0m\u001b[0;34m:\u001b[0m\u001b[0;34m\u001b[0m\u001b[0m\n\u001b[1;32m   1320\u001b[0m       return self._do_call(_run_fn, feeds, fetches, targets, options,\n\u001b[0;32m-> 1321\u001b[0;31m                            run_metadata)\n\u001b[0m\u001b[1;32m   1322\u001b[0m     \u001b[0;32melse\u001b[0m\u001b[0;34m:\u001b[0m\u001b[0;34m\u001b[0m\u001b[0m\n\u001b[1;32m   1323\u001b[0m       \u001b[0;32mreturn\u001b[0m \u001b[0mself\u001b[0m\u001b[0;34m.\u001b[0m\u001b[0m_do_call\u001b[0m\u001b[0;34m(\u001b[0m\u001b[0m_prun_fn\u001b[0m\u001b[0;34m,\u001b[0m \u001b[0mhandle\u001b[0m\u001b[0;34m,\u001b[0m \u001b[0mfeeds\u001b[0m\u001b[0;34m,\u001b[0m \u001b[0mfetches\u001b[0m\u001b[0;34m)\u001b[0m\u001b[0;34m\u001b[0m\u001b[0m\n",
      "\u001b[0;32m~/anaconda3/lib/python3.6/site-packages/tensorflow/python/client/session.py\u001b[0m in \u001b[0;36m_do_call\u001b[0;34m(self, fn, *args)\u001b[0m\n\u001b[1;32m   1338\u001b[0m         \u001b[0;32mexcept\u001b[0m \u001b[0mKeyError\u001b[0m\u001b[0;34m:\u001b[0m\u001b[0;34m\u001b[0m\u001b[0m\n\u001b[1;32m   1339\u001b[0m           \u001b[0;32mpass\u001b[0m\u001b[0;34m\u001b[0m\u001b[0m\n\u001b[0;32m-> 1340\u001b[0;31m       \u001b[0;32mraise\u001b[0m \u001b[0mtype\u001b[0m\u001b[0;34m(\u001b[0m\u001b[0me\u001b[0m\u001b[0;34m)\u001b[0m\u001b[0;34m(\u001b[0m\u001b[0mnode_def\u001b[0m\u001b[0;34m,\u001b[0m \u001b[0mop\u001b[0m\u001b[0;34m,\u001b[0m \u001b[0mmessage\u001b[0m\u001b[0;34m)\u001b[0m\u001b[0;34m\u001b[0m\u001b[0m\n\u001b[0m\u001b[1;32m   1341\u001b[0m \u001b[0;34m\u001b[0m\u001b[0m\n\u001b[1;32m   1342\u001b[0m   \u001b[0;32mdef\u001b[0m \u001b[0m_extend_graph\u001b[0m\u001b[0;34m(\u001b[0m\u001b[0mself\u001b[0m\u001b[0;34m)\u001b[0m\u001b[0;34m:\u001b[0m\u001b[0;34m\u001b[0m\u001b[0m\n",
      "\u001b[0;31mFailedPreconditionError\u001b[0m: Attempting to use uninitialized value InceptionResnetV1/Conv2d_1a_3x3/weights\n\t [[Node: InceptionResnetV1/Conv2d_1a_3x3/weights/read = Identity[T=DT_FLOAT, _class=[\"loc:@InceptionResnetV1/Conv2d_1a_3x3/weights\"], _device=\"/job:localhost/replica:0/task:0/device:CPU:0\"](InceptionResnetV1/Conv2d_1a_3x3/weights)]]\n\nCaused by op 'InceptionResnetV1/Conv2d_1a_3x3/weights/read', defined at:\n  File \"/Users/apple/anaconda3/lib/python3.6/runpy.py\", line 193, in _run_module_as_main\n    \"__main__\", mod_spec)\n  File \"/Users/apple/anaconda3/lib/python3.6/runpy.py\", line 85, in _run_code\n    exec(code, run_globals)\n  File \"/Users/apple/anaconda3/lib/python3.6/site-packages/ipykernel_launcher.py\", line 16, in <module>\n    app.launch_new_instance()\n  File \"/Users/apple/anaconda3/lib/python3.6/site-packages/traitlets/config/application.py\", line 658, in launch_instance\n    app.start()\n  File \"/Users/apple/anaconda3/lib/python3.6/site-packages/ipykernel/kernelapp.py\", line 478, in start\n    self.io_loop.start()\n  File \"/Users/apple/anaconda3/lib/python3.6/site-packages/zmq/eventloop/ioloop.py\", line 177, in start\n    super(ZMQIOLoop, self).start()\n  File \"/Users/apple/anaconda3/lib/python3.6/site-packages/tornado/ioloop.py\", line 888, in start\n    handler_func(fd_obj, events)\n  File \"/Users/apple/anaconda3/lib/python3.6/site-packages/tornado/stack_context.py\", line 277, in null_wrapper\n    return fn(*args, **kwargs)\n  File \"/Users/apple/anaconda3/lib/python3.6/site-packages/zmq/eventloop/zmqstream.py\", line 440, in _handle_events\n    self._handle_recv()\n  File \"/Users/apple/anaconda3/lib/python3.6/site-packages/zmq/eventloop/zmqstream.py\", line 472, in _handle_recv\n    self._run_callback(callback, msg)\n  File \"/Users/apple/anaconda3/lib/python3.6/site-packages/zmq/eventloop/zmqstream.py\", line 414, in _run_callback\n    callback(*args, **kwargs)\n  File \"/Users/apple/anaconda3/lib/python3.6/site-packages/tornado/stack_context.py\", line 277, in null_wrapper\n    return fn(*args, **kwargs)\n  File \"/Users/apple/anaconda3/lib/python3.6/site-packages/ipykernel/kernelbase.py\", line 283, in dispatcher\n    return self.dispatch_shell(stream, msg)\n  File \"/Users/apple/anaconda3/lib/python3.6/site-packages/ipykernel/kernelbase.py\", line 233, in dispatch_shell\n    handler(stream, idents, msg)\n  File \"/Users/apple/anaconda3/lib/python3.6/site-packages/ipykernel/kernelbase.py\", line 399, in execute_request\n    user_expressions, allow_stdin)\n  File \"/Users/apple/anaconda3/lib/python3.6/site-packages/ipykernel/ipkernel.py\", line 208, in do_execute\n    res = shell.run_cell(code, store_history=store_history, silent=silent)\n  File \"/Users/apple/anaconda3/lib/python3.6/site-packages/ipykernel/zmqshell.py\", line 537, in run_cell\n    return super(ZMQInteractiveShell, self).run_cell(*args, **kwargs)\n  File \"/Users/apple/anaconda3/lib/python3.6/site-packages/IPython/core/interactiveshell.py\", line 2728, in run_cell\n    interactivity=interactivity, compiler=compiler, result=result)\n  File \"/Users/apple/anaconda3/lib/python3.6/site-packages/IPython/core/interactiveshell.py\", line 2850, in run_ast_nodes\n    if self.run_code(code, result):\n  File \"/Users/apple/anaconda3/lib/python3.6/site-packages/IPython/core/interactiveshell.py\", line 2910, in run_code\n    exec(code_obj, self.user_global_ns, self.user_ns)\n  File \"<ipython-input-75-b6c39c16c386>\", line 1, in <module>\n    netword_structure = tf.train.import_meta_graph('20180402-114759/model-20180402-114759.meta')\n  File \"/Users/apple/anaconda3/lib/python3.6/site-packages/tensorflow/python/training/saver.py\", line 1927, in import_meta_graph\n    **kwargs)\n  File \"/Users/apple/anaconda3/lib/python3.6/site-packages/tensorflow/python/framework/meta_graph.py\", line 741, in import_scoped_meta_graph\n    producer_op_list=producer_op_list)\n  File \"/Users/apple/anaconda3/lib/python3.6/site-packages/tensorflow/python/util/deprecation.py\", line 432, in new_func\n    return func(*args, **kwargs)\n  File \"/Users/apple/anaconda3/lib/python3.6/site-packages/tensorflow/python/framework/importer.py\", line 577, in import_graph_def\n    op_def=op_def)\n  File \"/Users/apple/anaconda3/lib/python3.6/site-packages/tensorflow/python/framework/ops.py\", line 3290, in create_op\n    op_def=op_def)\n  File \"/Users/apple/anaconda3/lib/python3.6/site-packages/tensorflow/python/framework/ops.py\", line 1654, in __init__\n    self._traceback = self._graph._extract_stack()  # pylint: disable=protected-access\n\nFailedPreconditionError (see above for traceback): Attempting to use uninitialized value InceptionResnetV1/Conv2d_1a_3x3/weights\n\t [[Node: InceptionResnetV1/Conv2d_1a_3x3/weights/read = Identity[T=DT_FLOAT, _class=[\"loc:@InceptionResnetV1/Conv2d_1a_3x3/weights\"], _device=\"/job:localhost/replica:0/task:0/device:CPU:0\"](InceptionResnetV1/Conv2d_1a_3x3/weights)]]\n"
     ]
    }
   ],
   "source": [
    "img = cv2.imread(\"test_imgs/Yuanfang Guan.png\")\n",
    "temp = cv2.resize(img, (160, 160))\n",
    "temp = temp.reshape(1, 160, 160, 3)\n",
    "\n",
    "inputs = sess.graph.get_tensor_by_name(\"input:0\")\n",
    "outputs = sess.graph.get_tensor_by_name(\"embeddings:0\")\n",
    "phase_train = sess.graph.get_tensor_by_name(\"phase_train:0\")\n",
    "embedding = sess.run(outputs, {inputs: temp, phase_train: False})"
   ]
  },
  {
   "cell_type": "code",
   "execution_count": 59,
   "metadata": {},
   "outputs": [],
   "source": [
    "def process(Type, img_path):\n",
    "    img_path = Type + '_imgs/' + img_path\n",
    "    img = cv2.imread(img_path)\n",
    "    BLACK = [0, 0, 0]\n",
    "    top, bottom, left, right = (0, 0, 0, 0)\n",
    "    length = img.shape[0]\n",
    "    width = img.shape[1]\n",
    "    longest_edge = max(length, width)\n",
    "    \n",
    "    if length < longest_edge:\n",
    "        temp = longest_edge - length\n",
    "        top = temp // 2\n",
    "        bottom = temp - top\n",
    "    elif width < longest_edge:\n",
    "        temp = longest_edge - width\n",
    "        left = temp // 2\n",
    "        right = temp - left\n",
    "    else:\n",
    "        pass\n",
    "    \n",
    "    constant = cv2.copyMakeBorder(img, top, bottom, left, right, cv2.BORDER_CONSTANT, value = BLACK)\n",
    "    temp = cv2.resize(constant, (160, 160))\n",
    "    temp = temp.reshape(1, 160, 160, 3)\n",
    "    res = model.predict(temp)\n",
    "    return res\n",
    "    "
   ]
  },
  {
   "cell_type": "code",
   "execution_count": 69,
   "metadata": {
    "scrolled": true
   },
   "outputs": [
    {
     "data": {
      "text/plain": [
       "{'Alan BOYLE': array([[ 0.15199476,  0.9647459 ,  0.61955094,  0.19153917,  1.7735783 ,\n",
       "          1.2548004 ,  2.2107186 , -1.6918763 , -1.0587668 , -2.7576234 ,\n",
       "          1.6167655 , -3.067601  , -0.5768044 ,  0.07854991, -1.4662757 ,\n",
       "         -1.6901517 ,  0.72499204, -2.9467204 , -0.35949662, -2.3132968 ,\n",
       "          1.4390857 , -3.939863  ,  0.23476508,  2.5174625 ,  0.9056321 ,\n",
       "          2.8124797 ,  1.2021385 ,  0.10863502, -0.83829856, -2.7827845 ,\n",
       "          1.0309834 ,  2.971282  , -1.087863  ,  0.8837576 , -0.37934375,\n",
       "          1.2345082 ,  1.814649  , -0.678041  ,  1.5338161 ,  1.6389816 ,\n",
       "          2.067183  ,  0.25449595,  0.6842792 , -0.5579984 , -2.824769  ,\n",
       "          2.8123672 ,  1.9812924 ,  1.2703191 , -0.7499432 , -3.559504  ,\n",
       "          1.7686241 ,  1.6035872 ,  1.3472942 ,  1.2302206 ,  1.3512894 ,\n",
       "          5.516255  ,  1.459549  , -3.0308177 ,  2.1661    ,  2.349162  ,\n",
       "         -0.9592496 , -0.45033848,  0.57072145,  0.6617504 ,  0.21282214,\n",
       "          0.09755724,  1.8084522 ,  0.33415192,  1.2818254 ,  2.5910726 ,\n",
       "          0.8089845 ,  2.711614  , -1.4569073 ,  2.3937316 , -3.2392712 ,\n",
       "          2.4813993 , -0.9112531 ,  1.2870172 , -3.1661928 , -1.9729999 ,\n",
       "          0.22172219,  0.7965864 ,  1.4084406 , -0.68548375,  1.1926683 ,\n",
       "          0.11159217,  2.2598066 , -2.7610707 ,  0.6521121 ,  1.0494078 ,\n",
       "          0.06585267, -2.1711996 ,  1.346063  , -0.20356163,  0.32037953,\n",
       "          3.21771   ,  1.8135575 , -1.2480508 ,  1.5095911 ,  1.3695881 ,\n",
       "         -1.9956151 , -2.9090652 , -0.05466598,  0.05117258, -0.89933455,\n",
       "         -0.7566579 , -2.757973  ,  3.0867276 ,  1.1857555 , -1.3249444 ,\n",
       "         -2.65871   , -0.5495187 ,  1.6184282 , -1.5135155 , -0.35636857,\n",
       "          1.7892593 , -0.39517337,  0.9830663 ,  0.29243636, -2.4289377 ,\n",
       "          1.3465452 , -1.5091605 ,  2.1640143 ,  0.24413322,  0.40982533,\n",
       "          0.40243754,  1.560896  , -2.3283832 ]], dtype=float32),\n",
       " 'Armand BANKHEAD': array([[-0.13565798,  1.1945696 ,  1.4366258 ,  0.28657407,  1.4832144 ,\n",
       "          1.3893116 ,  2.195685  , -1.9440856 , -1.1593311 , -3.9607818 ,\n",
       "          2.310951  , -3.4725792 , -1.8068694 ,  0.25648135, -2.2508283 ,\n",
       "         -1.9845487 ,  1.0277933 , -2.3750346 , -1.7198355 , -2.1087258 ,\n",
       "          2.0205219 , -4.505696  ,  0.78596896,  1.9620754 ,  1.2296809 ,\n",
       "          3.1720219 ,  1.6194681 ,  0.20385675, -1.111104  , -2.8331335 ,\n",
       "          0.5228286 ,  3.915582  , -1.1829511 ,  0.32492924, -0.3456534 ,\n",
       "          1.2413584 ,  2.5239253 , -1.3689538 ,  0.54004824,  2.08236   ,\n",
       "          1.407583  , -0.70424676,  0.5124792 , -0.47756654, -2.8226247 ,\n",
       "          3.1208227 ,  2.431815  ,  1.545496  , -0.81313586, -3.811278  ,\n",
       "          3.2134132 ,  0.9250562 ,  2.8820648 ,  0.9976013 ,  1.9027971 ,\n",
       "          6.094336  ,  1.9741259 , -3.4015872 ,  2.2240744 ,  2.8805459 ,\n",
       "         -1.4651302 ,  0.01960788,  0.7591818 ,  1.2996982 ,  0.8014117 ,\n",
       "          0.41216898,  2.734903  ,  0.8532314 ,  2.0920956 ,  2.9121575 ,\n",
       "          0.49900672,  3.0791168 , -1.9147573 ,  2.4515066 , -3.7872355 ,\n",
       "          2.7649703 , -1.0202467 ,  0.98216116, -3.701079  , -2.591364  ,\n",
       "          0.05214553,  1.0596005 ,  1.5704749 , -0.3415094 ,  1.5886817 ,\n",
       "          0.41680545,  2.2765925 , -3.4548256 ,  1.1165555 ,  1.2371953 ,\n",
       "          0.3197655 , -2.8134763 ,  1.488217  , -0.4720938 , -0.133182  ,\n",
       "          4.0978227 ,  2.9370918 , -1.5405164 ,  2.1734967 ,  1.5019716 ,\n",
       "         -1.9111412 , -3.702975  ,  0.3469654 ,  0.19184469, -1.3337984 ,\n",
       "         -1.2752447 , -3.7708273 ,  3.6775856 ,  1.9498659 , -1.1859547 ,\n",
       "         -3.522547  , -0.46743727,  2.1213937 , -1.579651  , -0.22218382,\n",
       "          1.8919573 , -0.5784693 ,  1.6747209 ,  0.45501265, -3.1149771 ,\n",
       "          1.8820349 , -2.2969854 ,  2.1900954 ,  0.03293061,  0.49334288,\n",
       "          0.43835905,  1.350859  , -2.4209666 ]], dtype=float32),\n",
       " 'Brian ATHEY': array([[ 0.09028904,  0.7609967 ,  0.5770025 ,  0.34340966,  1.7496697 ,\n",
       "          1.7146521 ,  1.9749525 , -1.675918  , -1.0690025 , -2.7519238 ,\n",
       "          1.7521378 , -3.3948057 , -0.45354187,  0.61452305, -1.8206055 ,\n",
       "         -1.6022128 ,  0.62387013, -3.158175  , -0.79431283, -1.5694641 ,\n",
       "          2.0655594 , -4.0261526 ,  0.7136446 ,  2.9929907 ,  1.3936111 ,\n",
       "          2.7312095 ,  2.2155948 ,  0.18655246, -0.87350047, -3.263229  ,\n",
       "          0.82100594,  3.4622796 , -0.3609821 ,  0.8780506 , -0.59496605,\n",
       "          1.460145  ,  2.5716653 , -1.3704281 ,  0.8976849 ,  1.7879056 ,\n",
       "          2.0792875 , -0.01295836,  0.28253904, -1.0679023 , -3.7273848 ,\n",
       "          2.531557  ,  1.5939637 ,  1.583043  , -0.5853069 , -3.7061296 ,\n",
       "          2.5272949 ,  1.1936578 ,  1.9622203 ,  1.5775436 ,  1.7012991 ,\n",
       "          6.34217   ,  0.92327315, -3.5903544 ,  2.4639091 ,  2.1569364 ,\n",
       "         -1.0733293 ,  0.02988811,  1.0845011 ,  1.1591237 ,  0.01483313,\n",
       "          0.11010098,  2.0710037 ,  0.44228217,  1.6872712 ,  2.9111376 ,\n",
       "          0.6495672 ,  2.7520735 , -0.5795264 ,  2.6637807 , -3.5710683 ,\n",
       "          2.1046383 , -0.2514684 ,  1.2847041 , -3.1430337 , -2.1510456 ,\n",
       "         -0.48362756,  0.8005192 ,  1.604729  ,  0.34891713,  1.7167181 ,\n",
       "          0.6926273 ,  2.88327   , -3.552561  ,  1.7486897 ,  1.2684473 ,\n",
       "          0.14707522, -2.1691456 ,  1.188703  ,  0.06974572,  0.2848798 ,\n",
       "          3.7286963 ,  2.7928038 , -2.2314708 ,  1.7599599 ,  1.5520753 ,\n",
       "         -2.2345166 , -2.2002454 ,  0.282946  ,  0.27487168, -0.5844789 ,\n",
       "         -1.2423849 , -2.9655788 ,  3.308298  ,  1.7575123 , -1.399171  ,\n",
       "         -2.43369   , -0.96787125,  1.7142638 , -1.203706  , -0.25636724,\n",
       "          2.1816661 , -0.3962326 ,  1.7579774 ,  0.09612284, -3.3379226 ,\n",
       "          1.3772668 , -1.804878  ,  2.197656  ,  0.08566677,  0.23701057,\n",
       "          1.0240165 ,  2.0380106 , -2.2923105 ]], dtype=float32),\n",
       " 'Kaiwen Deng': array([[ 0.85598147,  1.8105114 ,  0.8924589 , -0.783746  ,  1.4548928 ,\n",
       "          1.343174  ,  0.834821  , -1.0213909 , -1.6637752 , -2.4043553 ,\n",
       "          1.57448   , -2.3276937 , -1.759898  ,  0.16821212, -0.72959995,\n",
       "         -1.0087161 ,  1.2506138 , -2.9827013 ,  0.16311392, -1.6163739 ,\n",
       "          0.758595  , -2.8685539 ,  1.7794539 ,  3.4707475 ,  1.2911289 ,\n",
       "          2.0084708 ,  2.612251  ,  0.8809985 , -0.0858518 , -2.9108927 ,\n",
       "         -0.02769336,  3.2300987 , -0.4535864 ,  0.3734214 , -0.95640343,\n",
       "          0.66183585,  2.9225273 , -2.4491594 ,  0.8908813 ,  1.182812  ,\n",
       "         -0.5844629 , -0.8666206 , -0.24337548, -0.1524069 , -2.2352421 ,\n",
       "          3.3112264 ,  2.4568884 , -0.8111546 , -1.4051332 , -2.0361924 ,\n",
       "          1.543846  ,  0.456091  ,  2.2997518 ,  1.5570259 ,  0.53255284,\n",
       "          5.6238885 ,  0.64713895, -3.0697625 ,  1.6379226 ,  2.7671804 ,\n",
       "         -0.663244  , -0.46867025,  2.7556643 ,  0.1634759 , -0.8278891 ,\n",
       "          0.6896453 ,  2.7040224 ,  0.62794083,  2.5005746 ,  1.3061556 ,\n",
       "         -0.70645756,  2.5399523 , -1.22463   ,  2.8311982 , -3.1104057 ,\n",
       "          3.2042823 , -1.1114163 ,  0.44160214, -1.8070318 , -2.4090545 ,\n",
       "         -0.43104702,  1.8553354 ,  0.24642272,  1.0519375 ,  2.2923362 ,\n",
       "         -0.5171962 ,  2.8987873 , -3.7865517 ,  1.9147584 ,  1.7188764 ,\n",
       "         -0.3059664 , -2.377725  ,  0.9689466 , -0.63721704, -0.14723457,\n",
       "          3.294654  ,  0.8768768 , -2.0192125 ,  1.0052526 ,  0.89324397,\n",
       "         -2.2672913 , -2.6182382 ,  1.7224483 , -0.2130588 , -0.12935382,\n",
       "         -1.7220603 , -5.127968  ,  4.143532  ,  1.0271373 , -1.6712455 ,\n",
       "         -1.9454434 , -0.8736406 ,  1.7454964 , -0.89277816,  0.19819793,\n",
       "          2.4050608 , -1.1673843 ,  1.3560979 ,  0.42408526, -1.7583895 ,\n",
       "          0.8615525 , -1.9957975 ,  0.8150463 ,  1.4164467 ,  1.0127684 ,\n",
       "          0.2652155 ,  1.3714355 , -3.10217   ]], dtype=float32)}"
      ]
     },
     "execution_count": 69,
     "metadata": {},
     "output_type": "execute_result"
    }
   ],
   "source": [
    "imgs = os.listdir('./train_imgs')\n",
    "\n",
    "def database1(images):\n",
    "    imgs = {}\n",
    "    for img_name in images:\n",
    "        if not img_name.endswith('.jpg'):\n",
    "            continue\n",
    "        imgs[img_name.replace('.jpg', '')] = process('train', img_name)\n",
    "    return imgs\n",
    "\n",
    "db = {}\n",
    "db['Alan BOYLE'] = process('train', 'Alan BOYLE.jpg')\n",
    "db['Armand BANKHEAD'] = process('train', 'Armand BANKHEAD.jpg')\n",
    "db['Brian ATHEY'] = process('train', 'Brian ATHEY.jpg')\n",
    "db['Kaiwen Deng'] = process('train', 'Kaiwen Deng.jpg')\n",
    "db"
   ]
  },
  {
   "cell_type": "code",
   "execution_count": 72,
   "metadata": {},
   "outputs": [],
   "source": [
    "def L2_distance(ensembl, database):\n",
    "    \n",
    "    min_dist = 100\n",
    "    \n",
    "    for db_nm, db_ens in database.items():\n",
    "        cur = np.linalg.norm(ensembl - db_ens)\n",
    "        \n",
    "        if cur < min_dist:\n",
    "            min_dist = cur\n",
    "            identity = db_nm\n",
    "    \n",
    "    if min_dist > 8:\n",
    "        print(\"Not in database\")\n",
    "        print(min_dist)\n",
    "        return\n",
    "    else:\n",
    "        return identity\n",
    "    "
   ]
  },
  {
   "cell_type": "code",
   "execution_count": 74,
   "metadata": {},
   "outputs": [
    {
     "ename": "AttributeError",
     "evalue": "'NoneType' object has no attribute 'shape'",
     "output_type": "error",
     "traceback": [
      "\u001b[0;31m---------------------------------------------------------------------------\u001b[0m",
      "\u001b[0;31mAttributeError\u001b[0m                            Traceback (most recent call last)",
      "\u001b[0;32m<ipython-input-74-87204351a073>\u001b[0m in \u001b[0;36m<module>\u001b[0;34m()\u001b[0m\n\u001b[0;32m----> 1\u001b[0;31m \u001b[0mtest_img_ensembl\u001b[0m \u001b[0;34m=\u001b[0m \u001b[0mprocess\u001b[0m\u001b[0;34m(\u001b[0m\u001b[0;34m'test'\u001b[0m\u001b[0;34m,\u001b[0m \u001b[0;34m'Kaiwen Deng.jpg'\u001b[0m\u001b[0;34m)\u001b[0m\u001b[0;34m\u001b[0m\u001b[0m\n\u001b[0m\u001b[1;32m      2\u001b[0m \u001b[0mL2_distance\u001b[0m\u001b[0;34m(\u001b[0m\u001b[0mtest_img_ensembl\u001b[0m\u001b[0;34m,\u001b[0m \u001b[0mdb\u001b[0m\u001b[0;34m)\u001b[0m\u001b[0;34m\u001b[0m\u001b[0m\n",
      "\u001b[0;32m<ipython-input-59-e4800c55af2f>\u001b[0m in \u001b[0;36mprocess\u001b[0;34m(Type, img_path)\u001b[0m\n\u001b[1;32m      4\u001b[0m     \u001b[0mBLACK\u001b[0m \u001b[0;34m=\u001b[0m \u001b[0;34m[\u001b[0m\u001b[0;36m0\u001b[0m\u001b[0;34m,\u001b[0m \u001b[0;36m0\u001b[0m\u001b[0;34m,\u001b[0m \u001b[0;36m0\u001b[0m\u001b[0;34m]\u001b[0m\u001b[0;34m\u001b[0m\u001b[0m\n\u001b[1;32m      5\u001b[0m     \u001b[0mtop\u001b[0m\u001b[0;34m,\u001b[0m \u001b[0mbottom\u001b[0m\u001b[0;34m,\u001b[0m \u001b[0mleft\u001b[0m\u001b[0;34m,\u001b[0m \u001b[0mright\u001b[0m \u001b[0;34m=\u001b[0m \u001b[0;34m(\u001b[0m\u001b[0;36m0\u001b[0m\u001b[0;34m,\u001b[0m \u001b[0;36m0\u001b[0m\u001b[0;34m,\u001b[0m \u001b[0;36m0\u001b[0m\u001b[0;34m,\u001b[0m \u001b[0;36m0\u001b[0m\u001b[0;34m)\u001b[0m\u001b[0;34m\u001b[0m\u001b[0m\n\u001b[0;32m----> 6\u001b[0;31m     \u001b[0mlength\u001b[0m \u001b[0;34m=\u001b[0m \u001b[0mimg\u001b[0m\u001b[0;34m.\u001b[0m\u001b[0mshape\u001b[0m\u001b[0;34m[\u001b[0m\u001b[0;36m0\u001b[0m\u001b[0;34m]\u001b[0m\u001b[0;34m\u001b[0m\u001b[0m\n\u001b[0m\u001b[1;32m      7\u001b[0m     \u001b[0mwidth\u001b[0m \u001b[0;34m=\u001b[0m \u001b[0mimg\u001b[0m\u001b[0;34m.\u001b[0m\u001b[0mshape\u001b[0m\u001b[0;34m[\u001b[0m\u001b[0;36m1\u001b[0m\u001b[0;34m]\u001b[0m\u001b[0;34m\u001b[0m\u001b[0m\n\u001b[1;32m      8\u001b[0m     \u001b[0mlongest_edge\u001b[0m \u001b[0;34m=\u001b[0m \u001b[0mmax\u001b[0m\u001b[0;34m(\u001b[0m\u001b[0mlength\u001b[0m\u001b[0;34m,\u001b[0m \u001b[0mwidth\u001b[0m\u001b[0;34m)\u001b[0m\u001b[0;34m\u001b[0m\u001b[0m\n",
      "\u001b[0;31mAttributeError\u001b[0m: 'NoneType' object has no attribute 'shape'"
     ]
    }
   ],
   "source": [
    "test_img_ensembl = process('test', 'Kaiwen Deng.jpeg')\n",
    "L2_distance(test_img_ensembl, db)"
   ]
  },
  {
   "cell_type": "code",
   "execution_count": null,
   "metadata": {},
   "outputs": [],
   "source": []
  },
  {
   "cell_type": "code",
   "execution_count": null,
   "metadata": {},
   "outputs": [],
   "source": []
  }
 ],
 "metadata": {
  "kernelspec": {
   "display_name": "Python 3",
   "language": "python",
   "name": "python3"
  },
  "language_info": {
   "codemirror_mode": {
    "name": "ipython",
    "version": 3
   },
   "file_extension": ".py",
   "mimetype": "text/x-python",
   "name": "python",
   "nbconvert_exporter": "python",
   "pygments_lexer": "ipython3",
   "version": "3.6.4"
  }
 },
 "nbformat": 4,
 "nbformat_minor": 2
}
